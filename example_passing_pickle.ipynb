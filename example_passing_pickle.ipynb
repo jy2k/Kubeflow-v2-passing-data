{
 "cells": [
  {
   "cell_type": "markdown",
   "id": "11b9f271-77c2-496f-a495-9021aa7cf0b1",
   "metadata": {},
   "source": [
    "### Install packages locally"
   ]
  },
  {
   "cell_type": "code",
   "execution_count": 4,
   "id": "3782e978-d1c3-4a96-ae40-396260a02c8a",
   "metadata": {},
   "outputs": [],
   "source": [
    "%%capture\n",
    "!pip3 install google-cloud-aiplatform==1.0.0 --upgrade\n",
    "!pip3 install kfp google-cloud-pipeline-components==0.1.1 --upgrade\n",
    "!pip3 install google-cloud-aiplatform --upgrade"
   ]
  },
  {
   "cell_type": "markdown",
   "id": "bb3459c6-52c0-411d-8107-5b0ac2a74962",
   "metadata": {},
   "source": [
    "### Relevant imports"
   ]
  },
  {
   "cell_type": "code",
   "execution_count": 72,
   "id": "a1009c8d-8938-47b7-bbae-0988c71d5a07",
   "metadata": {},
   "outputs": [],
   "source": [
    "import uuid\n",
    "from kfp import dsl\n",
    "import kfp\n",
    "from google.cloud import aiplatform\n",
    "from kfp.v2.dsl import component\n",
    "from kfp.v2.dsl import (Artifact, Dataset, Input, InputPath, Model, Output, OutputPath, component, ClassificationMetrics, Metrics)\n",
    "from google_cloud_pipeline_components import aiplatform as gcc_aip\n",
    "from typing import NamedTuple"
   ]
  },
  {
   "cell_type": "code",
   "execution_count": 73,
   "id": "ae807fa8-cdae-43e7-8d6d-0c5dd26bd573",
   "metadata": {},
   "outputs": [
    {
     "name": "stdout",
     "output_type": "stream",
     "text": [
      "kubeflow-demos\n",
      "test-pkl\n",
      "gs://test-pkl/pipeline_root\n"
     ]
    }
   ],
   "source": [
    "PROJECT_ID = 'kubeflow-demos'\n",
    "BUCKET_NAME = 'test-pkl'\n",
    "\n",
    "PIPELINE_ROOT = 'gs://{}/pipeline_root'.format(BUCKET_NAME)\n",
    "REGION = 'us-central1'\n",
    "\n",
    "print(PROJECT_ID)\n",
    "print(BUCKET_NAME)\n",
    "print(PIPELINE_ROOT)"
   ]
  },
  {
   "cell_type": "markdown",
   "id": "9f4e80fc-d0d7-4258-a90c-a5376377e1b4",
   "metadata": {},
   "source": [
    "### Add @components annotation with packages_to_install array\n",
    "Simulating a preprocess step that creates and retuerns an **ndarray**"
   ]
  },
  {
   "cell_type": "code",
   "execution_count": 74,
   "id": "a7a55dc1-67eb-4de6-93d3-7bc21a6c0a6e",
   "metadata": {},
   "outputs": [],
   "source": [
    "@component(packages_to_install=[\"pandas\", \"google-cloud-aiplatform\", \"google-cloud-bigquery-storage\",\"google-cloud-bigquery\",\"numpy\",\"pyarrow\"])\n",
    "def preprocess(artifact_uri: OutputPath()):\n",
    "    from google.cloud import bigquery\n",
    "    import google.auth\n",
    "    \n",
    "    creds, project = google.auth.default()\n",
    "    client = bigquery.Client(project='kubeflow-demos', credentials=creds)\n",
    "\n",
    "    query =     \"\"\"\n",
    "            SELECT * FROM `kubeflow-demos.telco.churn`\n",
    "    \"\"\"\n",
    "    \n",
    "    dataframe = client.query(query).to_dataframe()\n",
    "    dataframe = dataframe.head()\n",
    "    \n",
    "    import pickle\n",
    "    dataframe.to_pickle(artifact_uri)\n",
    "    print(artifact_uri)\n",
    "\n",
    "    "
   ]
  },
  {
   "cell_type": "code",
   "execution_count": 75,
   "id": "50e6f916-1a99-474f-a477-40263325cfb0",
   "metadata": {},
   "outputs": [],
   "source": [
    "@component(packages_to_install=[\"pandas\", \"google-cloud-aiplatform\", \"google-cloud-bigquery-storage\",\"google-cloud-bigquery\",\"numpy\",\"pyarrow\"])\n",
    "def train(artifact_uri: InputPath()):\n",
    "    import pickle\n",
    "    import pandas\n",
    "    dataframe = pandas.read_pickle(artifact_uri)\n",
    "    print(dataframe.head())\n",
    "    "
   ]
  },
  {
   "cell_type": "markdown",
   "id": "b9c9784c-def4-4f17-b09f-b47bf05fcd80",
   "metadata": {},
   "source": [
    "#### Use kubeflow wiring to pass data between steps"
   ]
  },
  {
   "cell_type": "markdown",
   "id": "b16b8063-b104-4f6b-8fa4-92f513f78bcd",
   "metadata": {},
   "source": [
    "### Compile and run"
   ]
  },
  {
   "cell_type": "code",
   "execution_count": 84,
   "id": "64ab34ac-f0f2-49f3-bc18-6420e8cd80f3",
   "metadata": {},
   "outputs": [
    {
     "name": "stderr",
     "output_type": "stream",
     "text": [
      "/Users/yarkoni/projects/publicissapient/venv/lib/python3.9/site-packages/kfp/v2/google/client/client.py:169: FutureWarning: AIPlatformClient will be deprecated in v1.9. Please use PipelineJob https://googleapis.dev/python/aiplatform/latest/_modules/google/cloud/aiplatform/pipeline_jobs.html in Vertex SDK. Install the SDK using \"pip install google-cloud-aiplatform\"\n",
      "  warnings.warn(\n"
     ]
    },
    {
     "data": {
      "text/html": [
       "See the Pipeline job <a href=\"https://console.cloud.google.com/vertex-ai/locations/us-central1/pipelines/runs/propensity-model-20210831002245?project=kubeflow-demos\" target=\"_blank\" >here</a>."
      ],
      "text/plain": [
       "<IPython.core.display.HTML object>"
      ]
     },
     "metadata": {},
     "output_type": "display_data"
    }
   ],
   "source": [
    "from datetime import datetime\n",
    "TIMESTAMP = datetime.now().strftime(\"%Y%m%d%H%M%S\")\n",
    "\n",
    "@kfp.dsl.pipeline(name=\"propensity-model\")\n",
    "def pipeline(\n",
    "    project: str = PROJECT_ID,\n",
    "    bucket: str = BUCKET_NAME,\n",
    "    baseline_accuracy: float = 70.0\n",
    "):\n",
    "    proprocess_task = preprocess().set_caching_options(True)\n",
    "    \n",
    "    train_task = train(proprocess_task.output).set_caching_options(True)\n",
    "\n",
    "from kfp.v2 import compiler\n",
    "\n",
    "compiler.Compiler().compile(pipeline_func=pipeline, \n",
    "                            package_path=\"dag-\"+TIMESTAMP+\".json\")\n",
    "\n",
    "from kfp.v2.google.client import AIPlatformClient\n",
    "\n",
    "api_client = AIPlatformClient(\n",
    "    project_id=PROJECT_ID,\n",
    "    region=REGION,\n",
    ")\n",
    "\n",
    "response = api_client.create_run_from_job_spec(\n",
    "    \"dag-\"+TIMESTAMP+\".json\",\n",
    "    pipeline_root=PIPELINE_ROOT,\n",
    "    parameter_values={\"baseline_accuracy\": 80.0},\n",
    ")"
   ]
  },
  {
   "cell_type": "code",
   "execution_count": null,
   "id": "4ff031c0-b58f-4923-85fb-ef3bc0ddcba3",
   "metadata": {},
   "outputs": [],
   "source": []
  }
 ],
 "metadata": {
  "kernelspec": {
   "display_name": "Python 3 (ipykernel)",
   "language": "python",
   "name": "python3"
  },
  "language_info": {
   "codemirror_mode": {
    "name": "ipython",
    "version": 3
   },
   "file_extension": ".py",
   "mimetype": "text/x-python",
   "name": "python",
   "nbconvert_exporter": "python",
   "pygments_lexer": "ipython3",
   "version": "3.9.4"
  }
 },
 "nbformat": 4,
 "nbformat_minor": 5
}
